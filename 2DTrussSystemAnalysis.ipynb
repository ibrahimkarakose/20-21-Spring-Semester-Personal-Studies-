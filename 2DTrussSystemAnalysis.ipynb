{
  "nbformat": 4,
  "nbformat_minor": 0,
  "metadata": {
    "colab": {
      "name": "2DTrussSystemAnalysis.ipynb",
      "provenance": [],
      "collapsed_sections": [],
      "authorship_tag": "ABX9TyOP2r+i6BTjnyQeaXkPEqHd",
      "include_colab_link": true
    },
    "kernelspec": {
      "name": "python3",
      "display_name": "Python 3"
    },
    "language_info": {
      "name": "python"
    }
  },
  "cells": [
    {
      "cell_type": "markdown",
      "metadata": {
        "id": "view-in-github",
        "colab_type": "text"
      },
      "source": [
        "<a href=\"https://colab.research.google.com/github/ibrahimkarakose/20-21-Spring-Semester-Personal-Studies-/blob/main/2DTrussSystemAnalysis.ipynb\" target=\"_parent\"><img src=\"https://colab.research.google.com/assets/colab-badge.svg\" alt=\"Open In Colab\"/></a>"
      ]
    },
    {
      "cell_type": "markdown",
      "metadata": {
        "id": "DZ06L9c5C6As"
      },
      "source": [
        "![image.png](data:image/png;base64,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)"
      ]
    },
    {
      "cell_type": "markdown",
      "metadata": {
        "id": "YaOEzOr9mgf_"
      },
      "source": [
        "-2D Truss System Basic Structural Analysis-"
      ]
    },
    {
      "cell_type": "code",
      "metadata": {
        "id": "iCU7XVCf8C7J"
      },
      "source": [
        "import math\n",
        "import numpy as np\n",
        "import matplotlib.pyplot as plt"
      ],
      "execution_count": 1,
      "outputs": []
    },
    {
      "cell_type": "code",
      "metadata": {
        "id": "dz8b85l9EBY0"
      },
      "source": [
        "#My parameters\n",
        "l=8 #m\n",
        "h=l/2 #m\n",
        "SD=7 #cm\n",
        "F=12 #kN\n",
        "E=32 #GPa\n",
        "A= (math.pi*SD**2*l) \n",
        "a = 60*(math.pi/180)\n"
      ],
      "execution_count": 2,
      "outputs": []
    },
    {
      "cell_type": "code",
      "metadata": {
        "id": "6dCl7evdD6Jj"
      },
      "source": [
        "#Acknowledgments\n",
        "\n",
        "DOF = 2"
      ],
      "execution_count": 3,
      "outputs": []
    },
    {
      "cell_type": "code",
      "metadata": {
        "id": "9rd-y1YWFac2"
      },
      "source": [
        "#Conversions\n",
        "\n",
        "E1 = E*10**3   #GPa to MPa\n",
        "l1 = l*1000     #m to mm\n",
        "F1 = F*1000    #kN to N\n",
        "#fy = F *  math.sin(a)\n",
        "#fx = F * math.cos(a)\n",
        "print(E1, l1, F1)"
      ],
      "execution_count": null,
      "outputs": []
    },
    {
      "cell_type": "code",
      "metadata": {
        "id": "-BHCPaxmFah5"
      },
      "source": [
        "#Local stiffness matrix of frame members\n",
        "def lsme(x1,y1,x2,y2,E,A):   #local stiffness matrix of elements will be coded as lsme from now on.\n",
        "        L=math.sqrt(((x2-x1)**2)+((y2-y1)**2))\n",
        "        c=float((x2-x1)/L)\n",
        "        s=float((y2-y1)/L)\n",
        "        K_lsme=(E1*A/L)*(np.array([[c**2,c*s,-c**2,-c*s],\n",
        "                             [c*s,s**2,-c*s,-s**2],\n",
        "                             [-c**2,-c*s,c**2,c*s],\n",
        "                             [-c*s,-s**2,c*s,s**2]]))\n",
        "        return(K_lsme)"
      ],
      "execution_count": 5,
      "outputs": []
    },
    {
      "cell_type": "code",
      "metadata": {
        "id": "uKt-WY44Fake"
      },
      "source": [
        "#Creating the coordinates of finite elements (frames) and nodes\n",
        "\n",
        "nodes={1:[0,0],2:[(l*math.cos(a)),(l*math.sin(a))],\n",
        "       3:[l,0],4:[l*(math.cos(a)+1),(l*math.sin(a))],5:[(2*l),0],\n",
        "       6:[l*(math.cos(a)+2),(l*math.sin(a))],7:[(3*l),0]}"
      ],
      "execution_count": 6,
      "outputs": []
    },
    {
      "cell_type": "code",
      "metadata": {
        "id": "Ymny0d-5ated"
      },
      "source": [
        "frames={1:[1,2],2:[1,3],3:[2,3],4:[2,4],\n",
        "        5:[3,4],6:[3,5],7:[4,5],8:[4,6],\n",
        "        9:[5,6],10:[5,7],11:[6,7]}\n"
      ],
      "execution_count": 7,
      "outputs": []
    },
    {
      "cell_type": "code",
      "metadata": {
        "colab": {
          "base_uri": "https://localhost:8080/",
          "height": 311
        },
        "id": "jR9gKKqVT21i",
        "outputId": "794fdce6-f7e0-475c-ee4f-31dbfe20cbb5"
      },
      "source": [
        "#Drawing the System Geometry\n",
        "\n",
        "for item in frames.keys():\n",
        "    plt.plot([(nodes[frames[item][0]][0]),(nodes[frames[item][1]][0])],\n",
        "             [(nodes[frames[item][0]][1]),(nodes[frames[item][1]][1])],\n",
        "             lw=5, c=\"gray\")\n",
        "    for dot in nodes.keys():\n",
        "        plt.annotate(dot, xy=(nodes[dot][0], nodes[dot][1]),\n",
        "                     xytext=(nodes[dot][0], nodes[dot][1]),\n",
        "            bbox=dict(boxstyle=\"circle\",alpha=0.5,fc=\"yellow\"),) #nodes\n",
        "\n",
        "for member_name in frames.keys():\n",
        "    x=((nodes[frames[member_name][1]][0])+(nodes[frames[member_name][0]][0]))/2\n",
        "    y=((nodes[frames[member_name][1]][1])+(nodes[frames[member_name][0]][1]))/2\n",
        "    plt.annotate(member_name, xy=(x,y), xytext=(x,y),\n",
        "        bbox=dict(boxstyle=\"round\",alpha=0.5,fc=\"green\"),) #frames\n",
        "\n",
        "\n",
        "    \n",
        "   \n",
        "plt.title(\"\\n\"'Geometry of Truss System'\"\\n\")\n",
        "plt.xlim(-1,26)\n",
        "plt.ylim(-1,8)\n",
        "plt.show()"
      ],
      "execution_count": 8,
      "outputs": [
        {
          "output_type": "display_data",
          "data": {
            "image/png": "[encoded data removed]",
            "text/plain": [
              "<Figure size 432x288 with 1 Axes>"
            ]
          },
          "metadata": {
            "tags": [],
            "needs_background": "light"
          }
        }
      ]
    },
    {
      "cell_type": "code",
      "metadata": {
        "id": "72-CD3HDUy1N"
      },
      "source": [
        "#CALCULATION OF LOCAL STIFFNESS MATRICES OF ELEMENT  \n",
        "#general stiffness matrix of elements will be coded as \"gsme\" from now on. \n",
        "\n",
        "K_gsme={}\n",
        "for item in frames.keys():\n",
        "    K_gsme[item]=lsme((nodes[frames[item][0]][0]),(nodes[frames[item][0]][1]),\n",
        "             (nodes[frames[item][1]][0]),(nodes[frames[item][1]][1]),E,A)\n",
        "    print(\"\\n\",20*\"=\",\"{}. Element Local stiffness matrix:\".format(item),20*\"=\",\"\\n\")\n",
        "    #print(\"{}. element local stiffness matrix: \\n\".format(item))\n",
        "    print(np.around(K_gsme[item],3))"
      ],
      "execution_count": null,
      "outputs": []
    },
    {
      "cell_type": "code",
      "metadata": {
        "id": "1Z7TxXpWh4Nw"
      },
      "source": [
        "# CALCULATION OF GENERAL STIFFNESS MATRIX DIMENSIONS\n",
        "#general stiffness matrix dimensions will be coded as \"gsmd\" from now on.   \n",
        "#general stiffness matrix  will be coded as \"gsm\" from now on.\n",
        "K_gsmd = DOF * len(nodes)\n",
        "K_gsm = np.zeros((K_gsmd,K_gsmd))\n",
        "#print(K_gsm)\n"
      ],
      "execution_count": 10,
      "outputs": []
    },
    {
      "cell_type": "code",
      "metadata": {
        "id": "lUX5WgYp8Nie"
      },
      "source": [
        "#MAPPING AND CREATING THE GENERAL STIFFNESS MATRIX\n",
        "#system general stiffness matrix will be coded as \"sgsm\" from now on.\n",
        "#node names will be coded as \"nn\" from now on.    \n",
        "def sgsm (K_gsme,nn,DOF,K_gsmd):\n",
        "    K_virtual = np.zeros((K_gsmd,K_gsmd))\n",
        "    # i,i \n",
        "    index = nn[0] * DOF - DOF \n",
        "    K_virtual[ index:index+DOF,index:index+DOF]=K_gsme[ 0 : DOF  , 0 : DOF ]\n",
        "    # i,j\n",
        "    index_2 = nn[1] * DOF - DOF \n",
        "    K_virtual[ index:index+DOF,index_2:index_2+DOF]=K_gsme[ 0 :DOF,DOF:DOF+DOF]\n",
        "    # j,i\n",
        "    K_virtual[ index_2:index_2+DOF,index:index+DOF]=K_gsme[DOF:DOF+DOF,0:DOF]\n",
        "    # j,j\n",
        "    index = nn[1] * DOF - DOF \n",
        "    K_virtual[ index:index+DOF,index:index+DOF]=K_gsme[DOF:DOF+DOF,DOF:DOF+DOF]\n",
        "    return( K_virtual )"
      ],
      "execution_count": 11,
      "outputs": []
    },
    {
      "cell_type": "code",
      "metadata": {
        "id": "ANQrrTOk8NuK"
      },
      "source": [
        "# CALCULATION OF GENERAL STIFFNESS MATRIX\n",
        "for item in frames.keys():\n",
        "    K_gsm += sgsm( K_gsme[item], frames[item], DOF , K_gsmd )"
      ],
      "execution_count": 12,
      "outputs": []
    },
    {
      "cell_type": "code",
      "metadata": {
        "id": "bJ4yXS038N05"
      },
      "source": [
        "#LIMIT CONDITIONS\n",
        "#It'll be coded as \"lc\" from now on.\n",
        "#Limit conditions of general stiffness matrix will be coded as \"lcgsm\" from now on.\n",
        "\n",
        "lc=np.array([0,0,1,1,1,1,0,0,1,1,1,1,1,1])\n",
        "\n",
        "\n",
        "K_lcgsm=K_gsm.copy()\n",
        "for item,value in enumerate(lc):\n",
        "    if value==0:\n",
        "        K_lcgsm[item,:]=0\n",
        "        K_lcgsm[:,item]=0\n",
        "        K_lcgsm[item,item]=1"
      ],
      "execution_count": 13,
      "outputs": []
    },
    {
      "cell_type": "code",
      "metadata": {
        "id": "JGAs-6lDEln3"
      },
      "source": [
        "#CALCULATION OF DISPLACEMENT \"P0\"\n",
        "\n",
        "P0=np.array([[0],[0],[0],[0],[0],[0],[0],[0],[0],[-F],[0],[-2*F],[0],[-F]])"
      ],
      "execution_count": 14,
      "outputs": []
    },
    {
      "cell_type": "code",
      "metadata": {
        "id": "_-GjWVR-Elvi"
      },
      "source": [
        "#P0 VECTOR REDUCED TO LIMIT CONDITIONS FOR ANALYSIS\n",
        "\n",
        "P0_lc=P0.copy()\n",
        "for item,value in enumerate(lc):\n",
        "    if value==0:\n",
        "        P0_lc[item]=0\n"
      ],
      "execution_count": 15,
      "outputs": []
    },
    {
      "cell_type": "code",
      "metadata": {
        "id": "j4EH4bQuElxM"
      },
      "source": [
        "#CALCULATION OF SYSTEM DISPLACEMENT VECTOR\n",
        "#Displacement vector will be coded as \"dv\" from now on.\n",
        "U_dv=np.linalg.solve(K_lcgsm,P0_lc)\n",
        "print(\"SYSTEM DISPLACEMENT UNDER HORIZONTAL LOADS\")\n",
        "print(np.round(U_dv,5))\n",
        "print(\"\\n\"+\"=\"*45)"
      ],
      "execution_count": null,
      "outputs": []
    },
    {
      "cell_type": "code",
      "metadata": {
        "id": "oYasuTnTJPvV"
      },
      "source": [
        "#SUPPORT REACTIONS AND LOAD VECTORS OF THE SYSTEM\n",
        "#P system will be coded as \"Ps\"\n",
        "Ps=K_gsm.dot(U_dv)\n",
        "print(\"SYSTEM DISPLACEMENT UNDER HORIZONTAL LOADS\")\n",
        "print(np.around(Ps))\n",
        "print(\"\\n\"+\"=\"*43)\n"
      ],
      "execution_count": null,
      "outputs": []
    },
    {
      "cell_type": "code",
      "metadata": {
        "id": "TlJcA__NJPx-"
      },
      "source": [
        "#TRANSFORMATION OF THE GENERAL DISPLACENT VECTOR OF THE SYSTEM TO THE ELEMENT GENERAL VECTOR\n",
        "\n",
        "#element global displacement vector will be coded as \"egdv\".\n",
        "#vector will be coded as \"vec\".\n",
        "egdv={}\n",
        "for item in frames.keys():\n",
        "    vec=np.zeros([4,1])\n",
        "    i=frames[item][0]\n",
        "    j=frames[item][1]\n",
        "    vec[0]=U_dv[(i*DOF)-2]\n",
        "    vec[1]=U_dv[(i*DOF)-1]\n",
        "    vec[2]=U_dv[(j*DOF)-2]\n",
        "    vec[3]=U_dv[(j*DOF)-1]\n",
        "    egdv[item]=vec"
      ],
      "execution_count": 18,
      "outputs": []
    },
    {
      "cell_type": "code",
      "metadata": {
        "id": "nwbh7YbXJP0h"
      },
      "source": [
        "#TRANSFORMATION OF THE ELEMENT GENERAL DISPLACEMENT VECTOR TO THE ELEMENT LOCAL DISPLCEMENT\n",
        "#element local displacemnet vector will be coded as \"eldv\".\n",
        "eldv={}\n",
        "for item in frames.keys():\n",
        "  eldv[item]=egdv[item]"
      ],
      "execution_count": 19,
      "outputs": []
    },
    {
      "cell_type": "code",
      "metadata": {
        "id": "7qPlXmmtUqPz"
      },
      "source": [
        "#CREATION OF THE ELEMENT LOCAL LOAD VECTOR\n",
        "\n",
        "el2v={}\n",
        "for item in frames.keys():\n",
        "    stage1=(K_gsme[item].dot(eldv[item]))\n",
        "    eldv[item]=stage1"
      ],
      "execution_count": 20,
      "outputs": []
    },
    {
      "cell_type": "code",
      "metadata": {
        "id": "EYNEsO_LUqSW"
      },
      "source": [
        "#internal forces will be coded as \"ifo\".\n",
        "\n",
        "for item in frames.keys():\n",
        "  x=eldv[item][0]\n",
        "  if x>0:\n",
        "    sign=(\"-\")\n",
        "  \n",
        "  else:\n",
        "    sign=(\"+\")\n",
        "    P_ifo=((eldv[item][0])**2+(eldv[item][1])**2)**0.5\n",
        "    \n",
        "  print(\"AXIAL FORCES\")\n",
        "  print(\"{}.element of axial force:\".format(item))\n",
        "  print(str(sign),float(np.around(P_ifo,2)))"
      ],
      "execution_count": null,
      "outputs": []
    },
    {
      "cell_type": "code",
      "metadata": {
        "id": "2tRIEHqgUqVd"
      },
      "source": [
        "Shear_1 = (Ps[0]/A)\n",
        "\n",
        "Normal_1 = (Ps[1]/A)\n",
        "\n",
        "Shear_2 = (Ps[7]/A)\n",
        "\n",
        "Normal_2 = (Ps[8]/A)\n",
        "\n",
        "print(Shear_1, Normal_1, Shear_2, Normal_2)\n"
      ],
      "execution_count": null,
      "outputs": []
    }
  ]
}